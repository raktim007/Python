{
  "nbformat": 4,
  "nbformat_minor": 0,
  "metadata": {
    "colab": {
      "name": "IMDB Review Symmentic Analysis using CNN.ipynb",
      "provenance": [],
      "authorship_tag": "ABX9TyNMnFpXf3K8dERvLD7st1n8",
      "include_colab_link": true
    },
    "kernelspec": {
      "name": "python3",
      "display_name": "Python 3"
    }
  },
  "cells": [
    {
      "cell_type": "markdown",
      "metadata": {
        "id": "view-in-github",
        "colab_type": "text"
      },
      "source": [
        "<a href=\"https://colab.research.google.com/github/raktim007/Python/blob/master/IMDB_Review_Symmentic_Analysis_using_CNN.ipynb\" target=\"_parent\"><img src=\"https://colab.research.google.com/assets/colab-badge.svg\" alt=\"Open In Colab\"/></a>"
      ]
    },
    {
      "cell_type": "code",
      "metadata": {
        "id": "tI8vqpxItwG5",
        "colab_type": "code",
        "colab": {
          "base_uri": "https://localhost:8080/",
          "height": 34
        },
        "outputId": "d3f5ac69-ca95-4cd7-b23c-eae1ca291aa2"
      },
      "source": [
        "from keras.datasets import imdb\n",
        "from keras import preprocessing\n"
      ],
      "execution_count": 1,
      "outputs": [
        {
          "output_type": "stream",
          "text": [
            "Using TensorFlow backend.\n"
          ],
          "name": "stderr"
        }
      ]
    },
    {
      "cell_type": "code",
      "metadata": {
        "id": "etvCDRYfuMiw",
        "colab_type": "code",
        "colab": {}
      },
      "source": [
        "max_features = 10000 #Number of words to consider as features\n",
        "maxlen = 50          #Cuts off the text after this number of words\n",
        "\n",
        "(x_train, y_train), (x_test, y_test) = imdb.load_data(num_words=max_features) #Loads the data as lists of integers\n",
        "\n",
        "#Turns the lists of integers into a 2D integer tensor of shape(samples, maxlen)\n",
        "x_train = preprocessing.sequence.pad_sequences(x_train, maxlen=maxlen)\n",
        "x_test = preprocessing.sequence.pad_sequences(x_test, maxlen=maxlen)"
      ],
      "execution_count": 0,
      "outputs": []
    },
    {
      "cell_type": "markdown",
      "metadata": {
        "id": "Xpor3tDsv5Ea",
        "colab_type": "text"
      },
      "source": [
        "Using an Embedding layer and classifier on the IMDB data\n"
      ]
    },
    {
      "cell_type": "code",
      "metadata": {
        "id": "I08Rlw_QxBsY",
        "colab_type": "code",
        "colab": {}
      },
      "source": [
        "from keras.layers import Embedding\n",
        "embedding_layer = Embedding(1000, 64)"
      ],
      "execution_count": 0,
      "outputs": []
    },
    {
      "cell_type": "code",
      "metadata": {
        "id": "62e96AEwv8ei",
        "colab_type": "code",
        "colab": {
          "base_uri": "https://localhost:8080/",
          "height": 666
        },
        "outputId": "66b012ed-6ce3-4d52-ed83-6a6643d35c26"
      },
      "source": [
        "from keras.models import Sequential\n",
        "from keras.layers import Flatten, Dense\n",
        "\n",
        "model = Sequential()\n",
        "#Specifies the maximum input length to the Embedding layer so you can later flatten the embedded inputs.\n",
        "# After the Embedding layer, the activations have shape (samples, maxlen, 8).\n",
        "model.add(Embedding(10000, 8, input_length=maxlen))\n",
        "\n",
        "model.add(Flatten()) #Flattens the 3D tensor of embeddings into a 2D tensor of shape\n",
        "model.add(Dense(1, activation='sigmoid'))\n",
        "model.compile(optimizer='rmsprop', loss='binary_crossentropy', metrics=['acc'])\n",
        "model.summary()\n",
        "\n",
        "history = model.fit(x_train, y_train, epochs=10, batch_size=32, validation_split=0.2)"
      ],
      "execution_count": 11,
      "outputs": [
        {
          "output_type": "stream",
          "text": [
            "Model: \"sequential_4\"\n",
            "_________________________________________________________________\n",
            "Layer (type)                 Output Shape              Param #   \n",
            "=================================================================\n",
            "embedding_5 (Embedding)      (None, 50, 8)             80000     \n",
            "_________________________________________________________________\n",
            "flatten_3 (Flatten)          (None, 400)               0         \n",
            "_________________________________________________________________\n",
            "dense_3 (Dense)              (None, 1)                 401       \n",
            "=================================================================\n",
            "Total params: 80,401\n",
            "Trainable params: 80,401\n",
            "Non-trainable params: 0\n",
            "_________________________________________________________________\n"
          ],
          "name": "stdout"
        },
        {
          "output_type": "stream",
          "text": [
            "/usr/local/lib/python3.6/dist-packages/tensorflow/python/framework/indexed_slices.py:434: UserWarning: Converting sparse IndexedSlices to a dense Tensor of unknown shape. This may consume a large amount of memory.\n",
            "  \"Converting sparse IndexedSlices to a dense Tensor of unknown shape. \"\n"
          ],
          "name": "stderr"
        },
        {
          "output_type": "stream",
          "text": [
            "Train on 20000 samples, validate on 5000 samples\n",
            "Epoch 1/10\n",
            "20000/20000 [==============================] - 1s 64us/step - loss: 0.6400 - acc: 0.6701 - val_loss: 0.5357 - val_acc: 0.7654\n",
            "Epoch 2/10\n",
            "20000/20000 [==============================] - 1s 60us/step - loss: 0.4452 - acc: 0.8077 - val_loss: 0.4286 - val_acc: 0.8014\n",
            "Epoch 3/10\n",
            "20000/20000 [==============================] - 1s 60us/step - loss: 0.3626 - acc: 0.8432 - val_loss: 0.4065 - val_acc: 0.8090\n",
            "Epoch 4/10\n",
            "20000/20000 [==============================] - 1s 59us/step - loss: 0.3244 - acc: 0.8592 - val_loss: 0.4027 - val_acc: 0.8106\n",
            "Epoch 5/10\n",
            "20000/20000 [==============================] - 1s 60us/step - loss: 0.2979 - acc: 0.8744 - val_loss: 0.4043 - val_acc: 0.8156\n",
            "Epoch 6/10\n",
            "20000/20000 [==============================] - 1s 59us/step - loss: 0.2770 - acc: 0.8854 - val_loss: 0.4046 - val_acc: 0.8160\n",
            "Epoch 7/10\n",
            "20000/20000 [==============================] - 1s 61us/step - loss: 0.2579 - acc: 0.8945 - val_loss: 0.4144 - val_acc: 0.8120\n",
            "Epoch 8/10\n",
            "20000/20000 [==============================] - 1s 61us/step - loss: 0.2392 - acc: 0.9041 - val_loss: 0.4217 - val_acc: 0.8142\n",
            "Epoch 9/10\n",
            "20000/20000 [==============================] - 1s 60us/step - loss: 0.2217 - acc: 0.9119 - val_loss: 0.4307 - val_acc: 0.8122\n",
            "Epoch 10/10\n",
            "20000/20000 [==============================] - 1s 61us/step - loss: 0.2045 - acc: 0.9216 - val_loss: 0.4389 - val_acc: 0.8116\n"
          ],
          "name": "stdout"
        }
      ]
    }
  ]
}